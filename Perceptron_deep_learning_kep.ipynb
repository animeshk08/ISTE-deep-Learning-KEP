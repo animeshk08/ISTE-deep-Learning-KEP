{
  "nbformat": 4,
  "nbformat_minor": 0,
  "metadata": {
    "colab": {
      "name": "Perceptron_deep_learning_kep.ipynb",
      "provenance": [],
      "collapsed_sections": []
    },
    "kernelspec": {
      "name": "python3",
      "display_name": "Python 3"
    },
    "accelerator": "GPU"
  },
  "cells": [
    {
      "cell_type": "code",
      "metadata": {
        "id": "07fErKzCd31x",
        "colab_type": "code",
        "outputId": "5c6c4166-32e4-4f28-c247-5042cbe79859",
        "colab": {
          "base_uri": "https://localhost:8080/",
          "height": 80
        }
      },
      "source": [
        "# baseline cnn model for mnist\n",
        "from numpy import mean\n",
        "from numpy import std\n",
        "from matplotlib import pyplot\n",
        "from sklearn.model_selection import KFold\n",
        "from keras.datasets import mnist\n",
        "from keras.utils import to_categorical\n",
        "from keras.models import Sequential\n",
        "from keras.layers import Conv2D\n",
        "from keras.layers import MaxPooling2D\n",
        "from keras.layers import Dense\n",
        "from keras.layers import Flatten\n",
        "from keras.optimizers import SGD"
      ],
      "execution_count": 1,
      "outputs": [
        {
          "output_type": "stream",
          "text": [
            "Using TensorFlow backend.\n"
          ],
          "name": "stderr"
        },
        {
          "output_type": "display_data",
          "data": {
            "text/html": [
              "<p style=\"color: red;\">\n",
              "The default version of TensorFlow in Colab will soon switch to TensorFlow 2.x.<br>\n",
              "We recommend you <a href=\"https://www.tensorflow.org/guide/migrate\" target=\"_blank\">upgrade</a> now \n",
              "or ensure your notebook will continue to use TensorFlow 1.x via the <code>%tensorflow_version 1.x</code> magic:\n",
              "<a href=\"https://colab.research.google.com/notebooks/tensorflow_version.ipynb\" target=\"_blank\">more info</a>.</p>\n"
            ],
            "text/plain": [
              "<IPython.core.display.HTML object>"
            ]
          },
          "metadata": {
            "tags": []
          }
        }
      ]
    },
    {
      "cell_type": "code",
      "metadata": {
        "id": "HpfP8IDDSM1D",
        "colab_type": "code",
        "colab": {}
      },
      "source": [
        "bit.ly/2xiEcKd"
      ],
      "execution_count": 0,
      "outputs": []
    },
    {
      "cell_type": "code",
      "metadata": {
        "id": "1qWIsqjo74SZ",
        "colab_type": "code",
        "colab": {}
      },
      "source": [
        "def load_dataset(SIZE):\n",
        "    # load dataset\n",
        "    (trainX, trainY), (testX, testY) = mnist.load_data()\n",
        "    trainX=trainX[0:SIZE]\n",
        "    trainY=trainY[0:SIZE]\n",
        "    for i in range(9):\n",
        "        # define subplot\n",
        "        pyplot.subplot(330 + 1 + i)\n",
        "        # plot raw pixel data\n",
        "        pyplot.imshow(trainX[i], cmap=pyplot.get_cmap('gray'))\n",
        "        # show the figure\n",
        "    pyplot.show()\n",
        "    # reshape dataset to have a single channel\n",
        "    print(trainX.shape)\n",
        "    trainX = trainX.reshape((trainX.shape[0], 28, 28, 1))\n",
        "    testX = testX.reshape((testX.shape[0], 28, 28, 1))\n",
        "    print(trainX.shape)\n",
        "    # one hot encode target values\n",
        "    trainY = to_categorical(trainY)\n",
        "    testY = to_categorical(testY)\n",
        "    \n",
        "    return trainX, trainY, testX, testY\n",
        "\n",
        "\n",
        "def prep_pixels(train, test):\n",
        "    # convert from integers to floats\n",
        "    train_norm = train.astype('float32')\n",
        "    test_norm = test.astype('float32')\n",
        "    # normalize to range 0-1\n",
        "    train_norm = train_norm / 255.0\n",
        "    test_norm = test_norm / 255.0\n",
        "    # return normalized images\n",
        "    return train_norm, test_norm"
      ],
      "execution_count": 0,
      "outputs": []
    },
    {
      "cell_type": "code",
      "metadata": {
        "id": "lOK_IUrztFds",
        "colab_type": "code",
        "colab": {}
      },
      "source": [
        "# define cnn model\n",
        "def define_model():\n",
        "\tmodel = Sequential()\n",
        "\tmodel.add(Flatten(input_shape=(28,28,1)))\n",
        "\tmodel.add(Dense(784, activation='relu'))\n",
        "\tmodel.add(Dense(100, activation='relu', kernel_initializer='he_uniform'))\n",
        "\tmodel.add(Dense(10, activation='softmax'))\n",
        "\t# compile model\n",
        "\topt = SGD(lr=0.01, momentum=0.9)\n",
        "\tmodel.compile(optimizer=opt, loss='categorical_crossentropy', metrics=['accuracy'])\n",
        "\treturn model"
      ],
      "execution_count": 0,
      "outputs": []
    },
    {
      "cell_type": "code",
      "metadata": {
        "id": "W_H1aL954gp3",
        "colab_type": "code",
        "colab": {}
      },
      "source": [
        "def evaluate_model(dataX, dataY, n_folds=5):\n",
        "    scores, histories = list(), list()\n",
        "    # prepare cross validation\n",
        "    kfold = KFold(n_folds, shuffle=True, random_state=1)\n",
        "    # enumerate splits\n",
        "    for train_ix, test_ix in kfold.split(dataX):\n",
        "        # define model\n",
        "        model = define_model()\n",
        "        print(model.summary())\n",
        "        # select rows for train and test\n",
        "        trainX, trainY, testX, testY = dataX[train_ix], dataY[train_ix], dataX[test_ix], dataY[test_ix]\n",
        "        # fit model\n",
        "        history = model.fit(trainX, trainY, epochs=10, batch_size=32, validation_data=(testX, testY), verbose=1)\n",
        "        # evaluate model\n",
        "        _, acc = model.evaluate(testX, testY, verbose=0)\n",
        "        print('> %.3f' % (acc * 100.0))\n",
        "        # stores scores\n",
        "        scores.append(acc)\n",
        "        histories.append(history)\n",
        "    return scores, histories\n",
        "\n",
        "def summarize_diagnostics(histories):\n",
        "    for i in range(len(histories)):\n",
        "        # plot loss\n",
        "        pyplot.subplot(2, 1, 1)\n",
        "        pyplot.title('Cross Entropy Loss')\n",
        "        pyplot.plot(histories[i].history['loss'], color='blue', label='train')\n",
        "        pyplot.plot(histories[i].history['val_loss'], color='orange', label='test')\n",
        "        # plot accuracy\n",
        "        pyplot.subplot(2, 1, 2)\n",
        "        pyplot.title('Classification Accuracy')\n",
        "        pyplot.plot(histories[i].history['acc'], color='blue', label='train')\n",
        "        pyplot.plot(histories[i].history['val_acc'], color='orange', label='test')\n",
        "    pyplot.show()\n",
        "\n",
        "def summarize_performance(scores):\n",
        "\t# print summary\n",
        "\tprint('Accuracy: mean=%.3f std=%.3f, n=%d' % (mean(scores)*100, std(scores)*100, len(scores)))\n",
        "\t# box and whisker plots of results\n",
        "\tpyplot.boxplot(scores)\n",
        "\tpyplot.show()"
      ],
      "execution_count": 0,
      "outputs": []
    },
    {
      "cell_type": "code",
      "metadata": {
        "id": "ikQ5Zvvd7WJ9",
        "colab_type": "code",
        "outputId": "30400e42-53c5-41a6-caa7-7a02d04d2a30",
        "colab": {
          "base_uri": "https://localhost:8080/",
          "height": 1000
        }
      },
      "source": [
        "def run_test_harness():\n",
        "    # load dataset\n",
        "    trainX, trainY, testX, testY = load_dataset(1000)\n",
        "    # prepare pixel data\n",
        "    trainX, testX = prep_pixels(trainX, testX)\n",
        "    # evaluate model\n",
        "    scores, histories = evaluate_model(trainX, trainY)\n",
        "    # learning curves\n",
        "    summarize_diagnostics(histories)\n",
        "    # summarize estimated performance\n",
        "    summarize_performance(scores)\n",
        "\n",
        "run_test_harness()\n",
        " "
      ],
      "execution_count": 8,
      "outputs": [
        {
          "output_type": "display_data",
          "data": {
            "image/png": "[encoded data removed]",
            "text/plain": [
              "<Figure size 432x288 with 9 Axes>"
            ]
          },
          "metadata": {
            "tags": []
          }
        },
        {
          "output_type": "stream",
          "text": [
            "(1000, 28, 28)\n",
            "(1000, 28, 28, 1)\n",
            "Model: \"sequential_11\"\n",
            "_________________________________________________________________\n",
            "Layer (type)                 Output Shape              Param #   \n",
            "=================================================================\n",
            "flatten_11 (Flatten)         (None, 784)               0         \n",
            "_________________________________________________________________\n",
            "dense_31 (Dense)             (None, 784)               615440    \n",
            "_________________________________________________________________\n",
            "dense_32 (Dense)             (None, 100)               78500     \n",
            "_________________________________________________________________\n",
            "dense_33 (Dense)             (None, 10)                1010      \n",
            "=================================================================\n",
            "Total params: 694,950\n",
            "Trainable params: 694,950\n",
            "Non-trainable params: 0\n",
            "_________________________________________________________________\n",
            "None\n",
            "Train on 800 samples, validate on 200 samples\n",
            "Epoch 1/10\n",
            "800/800 [==============================] - 1s 774us/step - loss: 1.8246 - acc: 0.4962 - val_loss: 1.1789 - val_acc: 0.7150\n",
            "Epoch 2/10\n",
            "800/800 [==============================] - 0s 177us/step - loss: 0.7327 - acc: 0.8212 - val_loss: 0.6280 - val_acc: 0.8200\n",
            "Epoch 3/10\n",
            "800/800 [==============================] - 0s 168us/step - loss: 0.4206 - acc: 0.8813 - val_loss: 0.5144 - val_acc: 0.8250\n",
            "Epoch 4/10\n",
            "800/800 [==============================] - 0s 163us/step - loss: 0.3238 - acc: 0.9163 - val_loss: 0.4703 - val_acc: 0.8450\n",
            "Epoch 5/10\n",
            "800/800 [==============================] - 0s 166us/step - loss: 0.2523 - acc: 0.9387 - val_loss: 0.4532 - val_acc: 0.8700\n",
            "Epoch 6/10\n",
            "800/800 [==============================] - 0s 166us/step - loss: 0.1938 - acc: 0.9525 - val_loss: 0.4576 - val_acc: 0.8650\n",
            "Epoch 7/10\n",
            "800/800 [==============================] - 0s 149us/step - loss: 0.1515 - acc: 0.9637 - val_loss: 0.4877 - val_acc: 0.8350\n",
            "Epoch 8/10\n",
            "800/800 [==============================] - 0s 171us/step - loss: 0.1218 - acc: 0.9775 - val_loss: 0.4557 - val_acc: 0.8700\n",
            "Epoch 9/10\n",
            "800/800 [==============================] - 0s 166us/step - loss: 0.0946 - acc: 0.9838 - val_loss: 0.4715 - val_acc: 0.8700\n",
            "Epoch 10/10\n",
            "800/800 [==============================] - 0s 163us/step - loss: 0.0793 - acc: 0.9937 - val_loss: 0.4639 - val_acc: 0.8650\n",
            "> 86.500\n",
            "Model: \"sequential_12\"\n",
            "_________________________________________________________________\n",
            "Layer (type)                 Output Shape              Param #   \n",
            "=================================================================\n",
            "flatten_12 (Flatten)         (None, 784)               0         \n",
            "_________________________________________________________________\n",
            "dense_34 (Dense)             (None, 784)               615440    \n",
            "_________________________________________________________________\n",
            "dense_35 (Dense)             (None, 100)               78500     \n",
            "_________________________________________________________________\n",
            "dense_36 (Dense)             (None, 10)                1010      \n",
            "=================================================================\n",
            "Total params: 694,950\n",
            "Trainable params: 694,950\n",
            "Non-trainable params: 0\n",
            "_________________________________________________________________\n",
            "None\n",
            "Train on 800 samples, validate on 200 samples\n",
            "Epoch 1/10\n",
            "800/800 [==============================] - 1s 847us/step - loss: 1.7997 - acc: 0.4662 - val_loss: 1.0128 - val_acc: 0.8250\n",
            "Epoch 2/10\n",
            "800/800 [==============================] - 0s 165us/step - loss: 0.7436 - acc: 0.8263 - val_loss: 0.5360 - val_acc: 0.8350\n",
            "Epoch 3/10\n",
            "800/800 [==============================] - 0s 149us/step - loss: 0.4460 - acc: 0.8712 - val_loss: 0.4865 - val_acc: 0.8700\n",
            "Epoch 4/10\n",
            "800/800 [==============================] - 0s 151us/step - loss: 0.3022 - acc: 0.9237 - val_loss: 0.4120 - val_acc: 0.9000\n",
            "Epoch 5/10\n",
            "800/800 [==============================] - 0s 150us/step - loss: 0.2358 - acc: 0.9413 - val_loss: 0.4076 - val_acc: 0.8950\n",
            "Epoch 6/10\n",
            "800/800 [==============================] - 0s 173us/step - loss: 0.1820 - acc: 0.9612 - val_loss: 0.3778 - val_acc: 0.8900\n",
            "Epoch 7/10\n",
            "800/800 [==============================] - 0s 171us/step - loss: 0.1401 - acc: 0.9688 - val_loss: 0.3740 - val_acc: 0.9150\n",
            "Epoch 8/10\n",
            "800/800 [==============================] - 0s 177us/step - loss: 0.1116 - acc: 0.9825 - val_loss: 0.3564 - val_acc: 0.9100\n",
            "Epoch 9/10\n",
            "800/800 [==============================] - 0s 167us/step - loss: 0.0845 - acc: 0.9913 - val_loss: 0.3896 - val_acc: 0.9100\n",
            "Epoch 10/10\n",
            "800/800 [==============================] - 0s 162us/step - loss: 0.0696 - acc: 0.9950 - val_loss: 0.3782 - val_acc: 0.9150\n",
            "> 91.500\n",
            "Model: \"sequential_13\"\n",
            "_________________________________________________________________\n",
            "Layer (type)                 Output Shape              Param #   \n",
            "=================================================================\n",
            "flatten_13 (Flatten)         (None, 784)               0         \n",
            "_________________________________________________________________\n",
            "dense_37 (Dense)             (None, 784)               615440    \n",
            "_________________________________________________________________\n",
            "dense_38 (Dense)             (None, 100)               78500     \n",
            "_________________________________________________________________\n",
            "dense_39 (Dense)             (None, 10)                1010      \n",
            "=================================================================\n",
            "Total params: 694,950\n",
            "Trainable params: 694,950\n",
            "Non-trainable params: 0\n",
            "_________________________________________________________________\n",
            "None\n",
            "Train on 800 samples, validate on 200 samples\n",
            "Epoch 1/10\n",
            "800/800 [==============================] - 1s 918us/step - loss: 1.8240 - acc: 0.4500 - val_loss: 1.2606 - val_acc: 0.6600\n",
            "Epoch 2/10\n",
            "800/800 [==============================] - 0s 169us/step - loss: 0.7644 - acc: 0.7925 - val_loss: 0.6262 - val_acc: 0.8200\n",
            "Epoch 3/10\n",
            "800/800 [==============================] - 0s 155us/step - loss: 0.4295 - acc: 0.8850 - val_loss: 0.4821 - val_acc: 0.8300\n",
            "Epoch 4/10\n",
            "800/800 [==============================] - 0s 157us/step - loss: 0.3183 - acc: 0.9175 - val_loss: 0.4034 - val_acc: 0.8750\n",
            "Epoch 5/10\n",
            "800/800 [==============================] - 0s 183us/step - loss: 0.2350 - acc: 0.9475 - val_loss: 0.3951 - val_acc: 0.8750\n",
            "Epoch 6/10\n",
            "800/800 [==============================] - 0s 176us/step - loss: 0.1808 - acc: 0.9563 - val_loss: 0.4296 - val_acc: 0.8650\n",
            "Epoch 7/10\n",
            "800/800 [==============================] - 0s 157us/step - loss: 0.1471 - acc: 0.9688 - val_loss: 0.3930 - val_acc: 0.8600\n",
            "Epoch 8/10\n",
            "800/800 [==============================] - 0s 173us/step - loss: 0.1217 - acc: 0.9763 - val_loss: 0.4233 - val_acc: 0.8450\n",
            "Epoch 9/10\n",
            "800/800 [==============================] - 0s 167us/step - loss: 0.0960 - acc: 0.9900 - val_loss: 0.3864 - val_acc: 0.8700\n",
            "Epoch 10/10\n",
            "800/800 [==============================] - 0s 153us/step - loss: 0.0719 - acc: 0.9937 - val_loss: 0.3868 - val_acc: 0.8700\n",
            "> 87.000\n",
            "Model: \"sequential_14\"\n",
            "_________________________________________________________________\n",
            "Layer (type)                 Output Shape              Param #   \n",
            "=================================================================\n",
            "flatten_14 (Flatten)         (None, 784)               0         \n",
            "_________________________________________________________________\n",
            "dense_40 (Dense)             (None, 784)               615440    \n",
            "_________________________________________________________________\n",
            "dense_41 (Dense)             (None, 100)               78500     \n",
            "_________________________________________________________________\n",
            "dense_42 (Dense)             (None, 10)                1010      \n",
            "=================================================================\n",
            "Total params: 694,950\n",
            "Trainable params: 694,950\n",
            "Non-trainable params: 0\n",
            "_________________________________________________________________\n",
            "None\n",
            "Train on 800 samples, validate on 200 samples\n",
            "Epoch 1/10\n",
            "800/800 [==============================] - 1s 948us/step - loss: 1.7867 - acc: 0.4812 - val_loss: 1.1192 - val_acc: 0.7400\n",
            "Epoch 2/10\n",
            "800/800 [==============================] - 0s 177us/step - loss: 0.7160 - acc: 0.8225 - val_loss: 0.6493 - val_acc: 0.7850\n",
            "Epoch 3/10\n",
            "800/800 [==============================] - 0s 181us/step - loss: 0.3880 - acc: 0.8938 - val_loss: 0.6006 - val_acc: 0.8150\n",
            "Epoch 4/10\n",
            "800/800 [==============================] - 0s 172us/step - loss: 0.2851 - acc: 0.9250 - val_loss: 0.5914 - val_acc: 0.8350\n",
            "Epoch 5/10\n",
            "800/800 [==============================] - 0s 165us/step - loss: 0.2350 - acc: 0.9375 - val_loss: 0.5551 - val_acc: 0.8450\n",
            "Epoch 6/10\n",
            "800/800 [==============================] - 0s 165us/step - loss: 0.1830 - acc: 0.9587 - val_loss: 0.6060 - val_acc: 0.8200\n",
            "Epoch 7/10\n",
            "800/800 [==============================] - 0s 170us/step - loss: 0.1423 - acc: 0.9750 - val_loss: 0.5516 - val_acc: 0.8250\n",
            "Epoch 8/10\n",
            "800/800 [==============================] - 0s 176us/step - loss: 0.1075 - acc: 0.9788 - val_loss: 0.5787 - val_acc: 0.8300\n",
            "Epoch 9/10\n",
            "800/800 [==============================] - 0s 157us/step - loss: 0.0912 - acc: 0.9875 - val_loss: 0.5634 - val_acc: 0.8450\n",
            "Epoch 10/10\n",
            "800/800 [==============================] - 0s 162us/step - loss: 0.0785 - acc: 0.9888 - val_loss: 0.6116 - val_acc: 0.8350\n",
            "> 83.500\n",
            "Model: \"sequential_15\"\n",
            "_________________________________________________________________\n",
            "Layer (type)                 Output Shape              Param #   \n",
            "=================================================================\n",
            "flatten_15 (Flatten)         (None, 784)               0         \n",
            "_________________________________________________________________\n",
            "dense_43 (Dense)             (None, 784)               615440    \n",
            "_________________________________________________________________\n",
            "dense_44 (Dense)             (None, 100)               78500     \n",
            "_________________________________________________________________\n",
            "dense_45 (Dense)             (None, 10)                1010      \n",
            "=================================================================\n",
            "Total params: 694,950\n",
            "Trainable params: 694,950\n",
            "Non-trainable params: 0\n",
            "_________________________________________________________________\n",
            "None\n",
            "Train on 800 samples, validate on 200 samples\n",
            "Epoch 1/10\n",
            "800/800 [==============================] - 1s 985us/step - loss: 1.8599 - acc: 0.4362 - val_loss: 1.2638 - val_acc: 0.7400\n",
            "Epoch 2/10\n",
            "800/800 [==============================] - 0s 186us/step - loss: 0.8321 - acc: 0.7875 - val_loss: 0.5781 - val_acc: 0.8450\n",
            "Epoch 3/10\n",
            "800/800 [==============================] - 0s 179us/step - loss: 0.4590 - acc: 0.8762 - val_loss: 0.5001 - val_acc: 0.8650\n",
            "Epoch 4/10\n",
            "800/800 [==============================] - 0s 170us/step - loss: 0.3362 - acc: 0.9037 - val_loss: 0.4435 - val_acc: 0.8700\n",
            "Epoch 5/10\n",
            "800/800 [==============================] - 0s 158us/step - loss: 0.2546 - acc: 0.9400 - val_loss: 0.4018 - val_acc: 0.9000\n",
            "Epoch 6/10\n",
            "800/800 [==============================] - 0s 165us/step - loss: 0.1889 - acc: 0.9612 - val_loss: 0.4363 - val_acc: 0.8950\n",
            "Epoch 7/10\n",
            "800/800 [==============================] - 0s 178us/step - loss: 0.1456 - acc: 0.9688 - val_loss: 0.3907 - val_acc: 0.8850\n",
            "Epoch 8/10\n",
            "800/800 [==============================] - 0s 171us/step - loss: 0.1143 - acc: 0.9812 - val_loss: 0.3783 - val_acc: 0.9150\n",
            "Epoch 9/10\n",
            "800/800 [==============================] - 0s 182us/step - loss: 0.0961 - acc: 0.9825 - val_loss: 0.3725 - val_acc: 0.9000\n",
            "Epoch 10/10\n",
            "800/800 [==============================] - 0s 158us/step - loss: 0.0706 - acc: 0.9925 - val_loss: 0.3924 - val_acc: 0.9000\n",
            "> 90.000\n"
          ],
          "name": "stdout"
        },
        {
          "output_type": "stream",
          "text": [
            "/usr/local/lib/python3.6/dist-packages/ipykernel_launcher.py:25: MatplotlibDeprecationWarning: Adding an axes using the same arguments as a previous axes currently reuses the earlier instance.  In a future version, a new instance will always be created and returned.  Meanwhile, this warning can be suppressed, and the future behavior ensured, by passing a unique label to each axes instance.\n",
            "/usr/local/lib/python3.6/dist-packages/ipykernel_launcher.py:30: MatplotlibDeprecationWarning: Adding an axes using the same arguments as a previous axes currently reuses the earlier instance.  In a future version, a new instance will always be created and returned.  Meanwhile, this warning can be suppressed, and the future behavior ensured, by passing a unique label to each axes instance.\n",
            "/usr/local/lib/python3.6/dist-packages/ipykernel_launcher.py:25: MatplotlibDeprecationWarning: Adding an axes using the same arguments as a previous axes currently reuses the earlier instance.  In a future version, a new instance will always be created and returned.  Meanwhile, this warning can be suppressed, and the future behavior ensured, by passing a unique label to each axes instance.\n",
            "/usr/local/lib/python3.6/dist-packages/ipykernel_launcher.py:30: MatplotlibDeprecationWarning: Adding an axes using the same arguments as a previous axes currently reuses the earlier instance.  In a future version, a new instance will always be created and returned.  Meanwhile, this warning can be suppressed, and the future behavior ensured, by passing a unique label to each axes instance.\n",
            "/usr/local/lib/python3.6/dist-packages/ipykernel_launcher.py:25: MatplotlibDeprecationWarning: Adding an axes using the same arguments as a previous axes currently reuses the earlier instance.  In a future version, a new instance will always be created and returned.  Meanwhile, this warning can be suppressed, and the future behavior ensured, by passing a unique label to each axes instance.\n",
            "/usr/local/lib/python3.6/dist-packages/ipykernel_launcher.py:30: MatplotlibDeprecationWarning: Adding an axes using the same arguments as a previous axes currently reuses the earlier instance.  In a future version, a new instance will always be created and returned.  Meanwhile, this warning can be suppressed, and the future behavior ensured, by passing a unique label to each axes instance.\n",
            "/usr/local/lib/python3.6/dist-packages/ipykernel_launcher.py:25: MatplotlibDeprecationWarning: Adding an axes using the same arguments as a previous axes currently reuses the earlier instance.  In a future version, a new instance will always be created and returned.  Meanwhile, this warning can be suppressed, and the future behavior ensured, by passing a unique label to each axes instance.\n",
            "/usr/local/lib/python3.6/dist-packages/ipykernel_launcher.py:30: MatplotlibDeprecationWarning: Adding an axes using the same arguments as a previous axes currently reuses the earlier instance.  In a future version, a new instance will always be created and returned.  Meanwhile, this warning can be suppressed, and the future behavior ensured, by passing a unique label to each axes instance.\n"
          ],
          "name": "stderr"
        },
        {
          "output_type": "display_data",
          "data": {
            "image/png": "[encoded data removed]",
            "text/plain": [
              "<Figure size 432x288 with 2 Axes>"
            ]
          },
          "metadata": {
            "tags": []
          }
        },
        {
          "output_type": "stream",
          "text": [
            "Accuracy: mean=87.700 std=2.804, n=5\n"
          ],
          "name": "stdout"
        },
        {
          "output_type": "display_data",
          "data": {
            "image/png": "[encoded data removed]",
            "text/plain": [
              "<Figure size 432x288 with 1 Axes>"
            ]
          },
          "metadata": {
            "tags": []
          }
        }
      ]
    },
    {
      "cell_type": "code",
      "metadata": {
        "id": "-489cPFTSjMt",
        "colab_type": "code",
        "colab": {}
      },
      "source": [
        ""
      ],
      "execution_count": 0,
      "outputs": []
    }
  ]
}