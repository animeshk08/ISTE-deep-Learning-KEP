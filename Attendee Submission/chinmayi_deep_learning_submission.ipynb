{
  "nbformat": 4,
  "nbformat_minor": 0,
  "metadata": {
    "colab": {
      "name": "Perceptron_deep_learning.ipynb",
      "provenance": []
    },
    "kernelspec": {
      "name": "python3",
      "display_name": "Python 3"
    }
  },
  "cells": [
    {
      "cell_type": "code",
      "metadata": {
        "id": "07fErKzCd31x",
        "colab_type": "code",
        "outputId": "60a72f98-ae25-4162-83f6-66cb3df76219",
        "colab": {
          "base_uri": "https://localhost:8080/",
          "height": 80
        }
      },
      "source": [
        "# baseline cnn model for mnist\n",
        "from numpy import mean\n",
        "from numpy import std\n",
        "from matplotlib import pyplot\n",
        "from sklearn.model_selection import KFold\n",
        "from keras.datasets import mnist\n",
        "from keras.utils import to_categorical\n",
        "from keras.models import Sequential\n",
        "from keras.layers import Conv2D\n",
        "from keras.layers import MaxPooling2D\n",
        "from keras.layers import Dense\n",
        "from keras.layers import Flatten\n",
        "from keras.optimizers import SGD"
      ],
      "execution_count": 1,
      "outputs": [
        {
          "output_type": "stream",
          "text": [
            "Using TensorFlow backend.\n"
          ],
          "name": "stderr"
        },
        {
          "output_type": "display_data",
          "data": {
            "text/html": [
              "<p style=\"color: red;\">\n",
              "The default version of TensorFlow in Colab will soon switch to TensorFlow 2.x.<br>\n",
              "We recommend you <a href=\"https://www.tensorflow.org/guide/migrate\" target=\"_blank\">upgrade</a> now \n",
              "or ensure your notebook will continue to use TensorFlow 1.x via the <code>%tensorflow_version 1.x</code> magic:\n",
              "<a href=\"https://colab.research.google.com/notebooks/tensorflow_version.ipynb\" target=\"_blank\">more info</a>.</p>\n"
            ],
            "text/plain": [
              "<IPython.core.display.HTML object>"
            ]
          },
          "metadata": {
            "tags": []
          }
        }
      ]
    },
    {
      "cell_type": "code",
      "metadata": {
        "id": "1qWIsqjo74SZ",
        "colab_type": "code",
        "colab": {}
      },
      "source": [
        "def load_dataset(SIZE):\n",
        "    # load dataset\n",
        "    (trainX, trainY), (testX, testY) = mnist.load_data()\n",
        "    trainX=trainX[0:SIZE]\n",
        "    trainY=trainY[0:SIZE]\n",
        "    for i in range(9):\n",
        "        # define subplot\n",
        "        pyplot.subplot(330 + 1 + i)\n",
        "        # plot raw pixel data\n",
        "        pyplot.imshow(trainX[i], cmap=pyplot.get_cmap('gray'))\n",
        "        # show the figure\n",
        "    pyplot.show()\n",
        "    # reshape dataset to have a single channel\n",
        "    print(trainX.shape)\n",
        "    trainX = trainX.reshape((trainX.shape[0], 28, 28, 1))\n",
        "    testX = testX.reshape((testX.shape[0], 28, 28, 1))\n",
        "    print(trainX.shape)\n",
        "    # one hot encode target values\n",
        "    trainY = to_categorical(trainY)\n",
        "    testY = to_categorical(testY)\n",
        "    \n",
        "    return trainX, trainY, testX, testY\n",
        "\n",
        "\n",
        "def prep_pixels(train, test):\n",
        "    # convert from integers to floats\n",
        "    train_norm = train.astype('float32')\n",
        "    test_norm = test.astype('float32')\n",
        "    # normalize to range 0-1\n",
        "    train_norm = train_norm / 255.0\n",
        "    test_norm = test_norm / 255.0\n",
        "    # return normalized images\n",
        "    return train_norm, test_norm"
      ],
      "execution_count": 0,
      "outputs": []
    },
    {
      "cell_type": "code",
      "metadata": {
        "id": "lOK_IUrztFds",
        "colab_type": "code",
        "colab": {}
      },
      "source": [
        "# define cnn model\n",
        "def define_model():\n",
        "\tmodel = Sequential()\n",
        "\tmodel.add(Conv2D(32, (3, 3), activation='relu', kernel_initializer='he_uniform', input_shape=(28, 28, 1)))\n",
        "\tmodel.add(MaxPooling2D((2, 2)))\n",
        "\tmodel.add(Flatten())\n",
        "\tmodel.add(Dense(100, activation='relu', kernel_initializer='he_uniform'))\n",
        "\tmodel.add(Dense(10, activation='softmax'))\n",
        "\t# compile model\n",
        "\topt = SGD(lr=0.01, momentum=0.9)\n",
        "\tmodel.compile(optimizer=opt, loss='categorical_crossentropy', metrics=['accuracy'])\n",
        "\treturn model"
      ],
      "execution_count": 0,
      "outputs": []
    },
    {
      "cell_type": "code",
      "metadata": {
        "id": "W_H1aL954gp3",
        "colab_type": "code",
        "colab": {}
      },
      "source": [
        "def evaluate_model(dataX, dataY, n_folds=5):\n",
        "    scores, histories = list(), list()\n",
        "    # prepare cross validation\n",
        "    kfold = KFold(n_folds, shuffle=True, random_state=1)\n",
        "    # enumerate splits\n",
        "    for train_ix, test_ix in kfold.split(dataX):\n",
        "        # define model\n",
        "        model = define_model()\n",
        "        print(model.summary())\n",
        "        # select rows for train and test\n",
        "        trainX, trainY, testX, testY = dataX[train_ix], dataY[train_ix], dataX[test_ix], dataY[test_ix]\n",
        "        # fit model\n",
        "        history = model.fit(trainX, trainY, epochs=10, batch_size=32, validation_data=(testX, testY), verbose=1)\n",
        "        # evaluate model\n",
        "        _, acc = model.evaluate(testX, testY, verbose=0)\n",
        "        print('> %.3f' % (acc * 100.0))\n",
        "        # stores scores\n",
        "        scores.append(acc)\n",
        "        histories.append(history)\n",
        "    return scores, histories\n",
        "\n",
        "def summarize_diagnostics(histories):\n",
        "    for i in range(len(histories)):\n",
        "        # plot loss\n",
        "        pyplot.subplot(2, 1, 1)\n",
        "        pyplot.title('Cross Entropy Loss')\n",
        "        pyplot.plot(histories[i].history['loss'], color='blue', label='train')\n",
        "        pyplot.plot(histories[i].history['val_loss'], color='orange', label='test')\n",
        "        # plot accuracy\n",
        "        pyplot.subplot(2, 1, 2)\n",
        "        pyplot.title('Classification Accuracy')\n",
        "        pyplot.plot(histories[i].history['acc'], color='blue', label='train')\n",
        "        pyplot.plot(histories[i].history['val_acc'], color='orange', label='test')\n",
        "    pyplot.show()\n",
        "\n",
        "def summarize_performance(scores):\n",
        "\t# print summary\n",
        "\tprint('Accuracy: mean=%.3f std=%.3f, n=%d' % (mean(scores)*100, std(scores)*100, len(scores)))\n",
        "\t# box and whisker plots of results\n",
        "\tpyplot.boxplot(scores)\n",
        "\tpyplot.show()"
      ],
      "execution_count": 0,
      "outputs": []
    },
    {
      "cell_type": "code",
      "metadata": {
        "id": "ikQ5Zvvd7WJ9",
        "colab_type": "code",
        "outputId": "b596fe38-6be4-4fde-9afe-32388b3be713",
        "colab": {
          "base_uri": "https://localhost:8080/",
          "height": 1000
        }
      },
      "source": [
        "def run_test_harness():\n",
        "    # load dataset\n",
        "    trainX, trainY, testX, testY = load_dataset(1000)\n",
        "    # prepare pixel data\n",
        "    trainX, testX = prep_pixels(trainX, testX)\n",
        "    # evaluate model\n",
        "    scores, histories = evaluate_model(trainX, trainY)\n",
        "    # learning curves\n",
        "    summarize_diagnostics(histories)\n",
        "    # summarize estimated performance\n",
        "    summarize_performance(scores)\n",
        "\n",
        "run_test_harness()\n",
        " "
      ],
      "execution_count": 7,
      "outputs": [
        {
          "output_type": "display_data",
          "data": {
            "image/png": "[encoded data removed]",
            "text/plain": [
              "<Figure size 432x288 with 9 Axes>"
            ]
          },
          "metadata": {
            "tags": []
          }
        },
        {
          "output_type": "stream",
          "text": [
            "(1000, 28, 28)\n",
            "(1000, 28, 28, 1)\n",
            "WARNING:tensorflow:From /usr/local/lib/python3.6/dist-packages/keras/backend/tensorflow_backend.py:4267: The name tf.nn.max_pool is deprecated. Please use tf.nn.max_pool2d instead.\n",
            "\n",
            "Model: \"sequential_6\"\n",
            "_________________________________________________________________\n",
            "Layer (type)                 Output Shape              Param #   \n",
            "=================================================================\n",
            "conv2d_1 (Conv2D)            (None, 26, 26, 32)        320       \n",
            "_________________________________________________________________\n",
            "max_pooling2d_1 (MaxPooling2 (None, 13, 13, 32)        0         \n",
            "_________________________________________________________________\n",
            "flatten_6 (Flatten)          (None, 5408)              0         \n",
            "_________________________________________________________________\n",
            "dense_16 (Dense)             (None, 100)               540900    \n",
            "_________________________________________________________________\n",
            "dense_17 (Dense)             (None, 10)                1010      \n",
            "=================================================================\n",
            "Total params: 542,230\n",
            "Trainable params: 542,230\n",
            "Non-trainable params: 0\n",
            "_________________________________________________________________\n",
            "None\n",
            "Train on 800 samples, validate on 200 samples\n",
            "Epoch 1/10\n",
            "800/800 [==============================] - 1s 1ms/step - loss: 1.1804 - acc: 0.6300 - val_loss: 0.8440 - val_acc: 0.7550\n",
            "Epoch 2/10\n",
            "800/800 [==============================] - 0s 603us/step - loss: 0.5259 - acc: 0.8362 - val_loss: 0.6336 - val_acc: 0.8150\n",
            "Epoch 3/10\n",
            "800/800 [==============================] - 0s 605us/step - loss: 0.2970 - acc: 0.9075 - val_loss: 0.4231 - val_acc: 0.8750\n",
            "Epoch 4/10\n",
            "800/800 [==============================] - 0s 608us/step - loss: 0.1814 - acc: 0.9450 - val_loss: 0.4408 - val_acc: 0.8650\n",
            "Epoch 5/10\n",
            "800/800 [==============================] - 0s 606us/step - loss: 0.1462 - acc: 0.9575 - val_loss: 0.5037 - val_acc: 0.8550\n",
            "Epoch 6/10\n",
            "800/800 [==============================] - 0s 615us/step - loss: 0.1096 - acc: 0.9650 - val_loss: 0.3917 - val_acc: 0.8900\n",
            "Epoch 7/10\n",
            "800/800 [==============================] - 0s 619us/step - loss: 0.0647 - acc: 0.9888 - val_loss: 0.4228 - val_acc: 0.8850\n",
            "Epoch 8/10\n",
            "800/800 [==============================] - 0s 615us/step - loss: 0.0536 - acc: 0.9900 - val_loss: 0.4152 - val_acc: 0.8900\n",
            "Epoch 9/10\n",
            "800/800 [==============================] - 0s 614us/step - loss: 0.0317 - acc: 0.9988 - val_loss: 0.4247 - val_acc: 0.8900\n",
            "Epoch 10/10\n",
            "800/800 [==============================] - 0s 614us/step - loss: 0.0237 - acc: 1.0000 - val_loss: 0.4367 - val_acc: 0.8900\n",
            "> 89.000\n",
            "Model: \"sequential_7\"\n",
            "_________________________________________________________________\n",
            "Layer (type)                 Output Shape              Param #   \n",
            "=================================================================\n",
            "conv2d_2 (Conv2D)            (None, 26, 26, 32)        320       \n",
            "_________________________________________________________________\n",
            "max_pooling2d_2 (MaxPooling2 (None, 13, 13, 32)        0         \n",
            "_________________________________________________________________\n",
            "flatten_7 (Flatten)          (None, 5408)              0         \n",
            "_________________________________________________________________\n",
            "dense_18 (Dense)             (None, 100)               540900    \n",
            "_________________________________________________________________\n",
            "dense_19 (Dense)             (None, 10)                1010      \n",
            "=================================================================\n",
            "Total params: 542,230\n",
            "Trainable params: 542,230\n",
            "Non-trainable params: 0\n",
            "_________________________________________________________________\n",
            "None\n",
            "Train on 800 samples, validate on 200 samples\n",
            "Epoch 1/10\n",
            "800/800 [==============================] - 1s 1ms/step - loss: 1.1991 - acc: 0.6125 - val_loss: 0.6099 - val_acc: 0.7950\n",
            "Epoch 2/10\n",
            "800/800 [==============================] - 0s 609us/step - loss: 0.4935 - acc: 0.8538 - val_loss: 0.4339 - val_acc: 0.8750\n",
            "Epoch 3/10\n",
            "800/800 [==============================] - 0s 603us/step - loss: 0.2866 - acc: 0.9100 - val_loss: 0.3605 - val_acc: 0.8900\n",
            "Epoch 4/10\n",
            "800/800 [==============================] - 0s 612us/step - loss: 0.1978 - acc: 0.9375 - val_loss: 0.3381 - val_acc: 0.9100\n",
            "Epoch 5/10\n",
            "800/800 [==============================] - 0s 597us/step - loss: 0.1395 - acc: 0.9650 - val_loss: 0.3283 - val_acc: 0.9200\n",
            "Epoch 6/10\n",
            "800/800 [==============================] - 0s 596us/step - loss: 0.0913 - acc: 0.9788 - val_loss: 0.3177 - val_acc: 0.9200\n",
            "Epoch 7/10\n",
            "800/800 [==============================] - 0s 607us/step - loss: 0.0603 - acc: 0.9875 - val_loss: 0.3305 - val_acc: 0.9100\n",
            "Epoch 8/10\n",
            "800/800 [==============================] - 0s 595us/step - loss: 0.0429 - acc: 0.9975 - val_loss: 0.3059 - val_acc: 0.9350\n",
            "Epoch 9/10\n",
            "800/800 [==============================] - 0s 603us/step - loss: 0.0297 - acc: 1.0000 - val_loss: 0.3312 - val_acc: 0.9200\n",
            "Epoch 10/10\n",
            "800/800 [==============================] - 0s 602us/step - loss: 0.0261 - acc: 0.9975 - val_loss: 0.2942 - val_acc: 0.9300\n",
            "> 93.000\n",
            "Model: \"sequential_8\"\n",
            "_________________________________________________________________\n",
            "Layer (type)                 Output Shape              Param #   \n",
            "=================================================================\n",
            "conv2d_3 (Conv2D)            (None, 26, 26, 32)        320       \n",
            "_________________________________________________________________\n",
            "max_pooling2d_3 (MaxPooling2 (None, 13, 13, 32)        0         \n",
            "_________________________________________________________________\n",
            "flatten_8 (Flatten)          (None, 5408)              0         \n",
            "_________________________________________________________________\n",
            "dense_20 (Dense)             (None, 100)               540900    \n",
            "_________________________________________________________________\n",
            "dense_21 (Dense)             (None, 10)                1010      \n",
            "=================================================================\n",
            "Total params: 542,230\n",
            "Trainable params: 542,230\n",
            "Non-trainable params: 0\n",
            "_________________________________________________________________\n",
            "None\n",
            "Train on 800 samples, validate on 200 samples\n",
            "Epoch 1/10\n",
            "800/800 [==============================] - 1s 1ms/step - loss: 1.0716 - acc: 0.6613 - val_loss: 0.5272 - val_acc: 0.8300\n",
            "Epoch 2/10\n",
            "800/800 [==============================] - 0s 591us/step - loss: 0.4488 - acc: 0.8588 - val_loss: 0.4799 - val_acc: 0.8650\n",
            "Epoch 3/10\n",
            "800/800 [==============================] - 0s 599us/step - loss: 0.2485 - acc: 0.9200 - val_loss: 0.4321 - val_acc: 0.8700\n",
            "Epoch 4/10\n",
            "800/800 [==============================] - 0s 593us/step - loss: 0.1672 - acc: 0.9487 - val_loss: 0.3392 - val_acc: 0.9000\n",
            "Epoch 5/10\n",
            "800/800 [==============================] - 0s 610us/step - loss: 0.1137 - acc: 0.9700 - val_loss: 0.3473 - val_acc: 0.8800\n",
            "Epoch 6/10\n",
            "800/800 [==============================] - 0s 612us/step - loss: 0.0803 - acc: 0.9788 - val_loss: 0.3578 - val_acc: 0.8950\n",
            "Epoch 7/10\n",
            "800/800 [==============================] - 0s 612us/step - loss: 0.0518 - acc: 0.9900 - val_loss: 0.3453 - val_acc: 0.9200\n",
            "Epoch 8/10\n",
            "800/800 [==============================] - 0s 614us/step - loss: 0.0344 - acc: 0.9962 - val_loss: 0.3248 - val_acc: 0.9050\n",
            "Epoch 9/10\n",
            "800/800 [==============================] - 0s 605us/step - loss: 0.0237 - acc: 1.0000 - val_loss: 0.3584 - val_acc: 0.9050\n",
            "Epoch 10/10\n",
            "800/800 [==============================] - 0s 608us/step - loss: 0.0189 - acc: 1.0000 - val_loss: 0.3280 - val_acc: 0.9050\n",
            "> 90.500\n",
            "Model: \"sequential_9\"\n",
            "_________________________________________________________________\n",
            "Layer (type)                 Output Shape              Param #   \n",
            "=================================================================\n",
            "conv2d_4 (Conv2D)            (None, 26, 26, 32)        320       \n",
            "_________________________________________________________________\n",
            "max_pooling2d_4 (MaxPooling2 (None, 13, 13, 32)        0         \n",
            "_________________________________________________________________\n",
            "flatten_9 (Flatten)          (None, 5408)              0         \n",
            "_________________________________________________________________\n",
            "dense_22 (Dense)             (None, 100)               540900    \n",
            "_________________________________________________________________\n",
            "dense_23 (Dense)             (None, 10)                1010      \n",
            "=================================================================\n",
            "Total params: 542,230\n",
            "Trainable params: 542,230\n",
            "Non-trainable params: 0\n",
            "_________________________________________________________________\n",
            "None\n",
            "Train on 800 samples, validate on 200 samples\n",
            "Epoch 1/10\n",
            "800/800 [==============================] - 1s 1ms/step - loss: 1.1652 - acc: 0.6475 - val_loss: 0.7960 - val_acc: 0.8050\n",
            "Epoch 2/10\n",
            "800/800 [==============================] - 0s 600us/step - loss: 0.4459 - acc: 0.8738 - val_loss: 0.6337 - val_acc: 0.8200\n",
            "Epoch 3/10\n",
            "800/800 [==============================] - 0s 593us/step - loss: 0.2781 - acc: 0.9138 - val_loss: 0.5685 - val_acc: 0.8500\n",
            "Epoch 4/10\n",
            "800/800 [==============================] - 0s 607us/step - loss: 0.1785 - acc: 0.9500 - val_loss: 0.5929 - val_acc: 0.8700\n",
            "Epoch 5/10\n",
            "800/800 [==============================] - 0s 605us/step - loss: 0.1467 - acc: 0.9575 - val_loss: 0.5436 - val_acc: 0.8650\n",
            "Epoch 6/10\n",
            "800/800 [==============================] - 0s 602us/step - loss: 0.0964 - acc: 0.9788 - val_loss: 0.5588 - val_acc: 0.8650\n",
            "Epoch 7/10\n",
            "800/800 [==============================] - 0s 606us/step - loss: 0.0601 - acc: 0.9875 - val_loss: 0.5497 - val_acc: 0.8750\n",
            "Epoch 8/10\n",
            "800/800 [==============================] - 0s 591us/step - loss: 0.0474 - acc: 0.9900 - val_loss: 0.5548 - val_acc: 0.8750\n",
            "Epoch 9/10\n",
            "800/800 [==============================] - 0s 602us/step - loss: 0.0294 - acc: 0.9975 - val_loss: 0.5696 - val_acc: 0.8700\n",
            "Epoch 10/10\n",
            "800/800 [==============================] - 0s 608us/step - loss: 0.0214 - acc: 1.0000 - val_loss: 0.5813 - val_acc: 0.8700\n",
            "> 87.000\n",
            "Model: \"sequential_10\"\n",
            "_________________________________________________________________\n",
            "Layer (type)                 Output Shape              Param #   \n",
            "=================================================================\n",
            "conv2d_5 (Conv2D)            (None, 26, 26, 32)        320       \n",
            "_________________________________________________________________\n",
            "max_pooling2d_5 (MaxPooling2 (None, 13, 13, 32)        0         \n",
            "_________________________________________________________________\n",
            "flatten_10 (Flatten)         (None, 5408)              0         \n",
            "_________________________________________________________________\n",
            "dense_24 (Dense)             (None, 100)               540900    \n",
            "_________________________________________________________________\n",
            "dense_25 (Dense)             (None, 10)                1010      \n",
            "=================================================================\n",
            "Total params: 542,230\n",
            "Trainable params: 542,230\n",
            "Non-trainable params: 0\n",
            "_________________________________________________________________\n",
            "None\n",
            "Train on 800 samples, validate on 200 samples\n",
            "Epoch 1/10\n",
            "800/800 [==============================] - 1s 1ms/step - loss: 1.2302 - acc: 0.6175 - val_loss: 0.5691 - val_acc: 0.8200\n",
            "Epoch 2/10\n",
            "800/800 [==============================] - 0s 605us/step - loss: 0.3738 - acc: 0.8788 - val_loss: 0.4237 - val_acc: 0.8500\n",
            "Epoch 3/10\n",
            "800/800 [==============================] - 0s 611us/step - loss: 0.2559 - acc: 0.9213 - val_loss: 0.4020 - val_acc: 0.8650\n",
            "Epoch 4/10\n",
            "800/800 [==============================] - 0s 601us/step - loss: 0.1715 - acc: 0.9438 - val_loss: 0.4441 - val_acc: 0.8650\n",
            "Epoch 5/10\n",
            "800/800 [==============================] - 0s 608us/step - loss: 0.1308 - acc: 0.9600 - val_loss: 0.4520 - val_acc: 0.8900\n",
            "Epoch 6/10\n",
            "800/800 [==============================] - 0s 607us/step - loss: 0.1098 - acc: 0.9725 - val_loss: 0.4049 - val_acc: 0.8900\n",
            "Epoch 7/10\n",
            "800/800 [==============================] - 0s 611us/step - loss: 0.0649 - acc: 0.9862 - val_loss: 0.4039 - val_acc: 0.8950\n",
            "Epoch 8/10\n",
            "800/800 [==============================] - 0s 604us/step - loss: 0.0397 - acc: 0.9950 - val_loss: 0.3793 - val_acc: 0.9000\n",
            "Epoch 9/10\n",
            "800/800 [==============================] - 1s 631us/step - loss: 0.0264 - acc: 1.0000 - val_loss: 0.3854 - val_acc: 0.9150\n",
            "Epoch 10/10\n",
            "800/800 [==============================] - 0s 621us/step - loss: 0.0198 - acc: 1.0000 - val_loss: 0.3853 - val_acc: 0.9200\n",
            "> 92.000\n"
          ],
          "name": "stdout"
        },
        {
          "output_type": "stream",
          "text": [
            "/usr/local/lib/python3.6/dist-packages/ipykernel_launcher.py:25: MatplotlibDeprecationWarning: Adding an axes using the same arguments as a previous axes currently reuses the earlier instance.  In a future version, a new instance will always be created and returned.  Meanwhile, this warning can be suppressed, and the future behavior ensured, by passing a unique label to each axes instance.\n",
            "/usr/local/lib/python3.6/dist-packages/ipykernel_launcher.py:30: MatplotlibDeprecationWarning: Adding an axes using the same arguments as a previous axes currently reuses the earlier instance.  In a future version, a new instance will always be created and returned.  Meanwhile, this warning can be suppressed, and the future behavior ensured, by passing a unique label to each axes instance.\n",
            "/usr/local/lib/python3.6/dist-packages/ipykernel_launcher.py:25: MatplotlibDeprecationWarning: Adding an axes using the same arguments as a previous axes currently reuses the earlier instance.  In a future version, a new instance will always be created and returned.  Meanwhile, this warning can be suppressed, and the future behavior ensured, by passing a unique label to each axes instance.\n",
            "/usr/local/lib/python3.6/dist-packages/ipykernel_launcher.py:30: MatplotlibDeprecationWarning: Adding an axes using the same arguments as a previous axes currently reuses the earlier instance.  In a future version, a new instance will always be created and returned.  Meanwhile, this warning can be suppressed, and the future behavior ensured, by passing a unique label to each axes instance.\n",
            "/usr/local/lib/python3.6/dist-packages/ipykernel_launcher.py:25: MatplotlibDeprecationWarning: Adding an axes using the same arguments as a previous axes currently reuses the earlier instance.  In a future version, a new instance will always be created and returned.  Meanwhile, this warning can be suppressed, and the future behavior ensured, by passing a unique label to each axes instance.\n",
            "/usr/local/lib/python3.6/dist-packages/ipykernel_launcher.py:30: MatplotlibDeprecationWarning: Adding an axes using the same arguments as a previous axes currently reuses the earlier instance.  In a future version, a new instance will always be created and returned.  Meanwhile, this warning can be suppressed, and the future behavior ensured, by passing a unique label to each axes instance.\n",
            "/usr/local/lib/python3.6/dist-packages/ipykernel_launcher.py:25: MatplotlibDeprecationWarning: Adding an axes using the same arguments as a previous axes currently reuses the earlier instance.  In a future version, a new instance will always be created and returned.  Meanwhile, this warning can be suppressed, and the future behavior ensured, by passing a unique label to each axes instance.\n",
            "/usr/local/lib/python3.6/dist-packages/ipykernel_launcher.py:30: MatplotlibDeprecationWarning: Adding an axes using the same arguments as a previous axes currently reuses the earlier instance.  In a future version, a new instance will always be created and returned.  Meanwhile, this warning can be suppressed, and the future behavior ensured, by passing a unique label to each axes instance.\n"
          ],
          "name": "stderr"
        },
        {
          "output_type": "display_data",
          "data": {
            "image/png": "[encoded data removed]",
            "text/plain": [
              "<Figure size 432x288 with 2 Axes>"
            ]
          },
          "metadata": {
            "tags": []
          }
        },
        {
          "output_type": "stream",
          "text": [
            "Accuracy: mean=90.300 std=2.135, n=5\n"
          ],
          "name": "stdout"
        },
        {
          "output_type": "display_data",
          "data": {
            "image/png": "[encoded data removed]",
            "text/plain": [
              "<Figure size 432x288 with 1 Axes>"
            ]
          },
          "metadata": {
            "tags": []
          }
        }
      ]
    }
  ]
}