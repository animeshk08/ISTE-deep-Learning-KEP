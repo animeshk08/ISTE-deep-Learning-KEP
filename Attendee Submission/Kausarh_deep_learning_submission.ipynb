{
  "nbformat": 4,
  "nbformat_minor": 0,
  "metadata": {
    "colab": {
      "name": "deep_learning_kep.ipynb",
      "provenance": []
    },
    "kernelspec": {
      "name": "python3",
      "display_name": "Python 3"
    },
    "accelerator": "GPU"
  },
  "cells": [
    {
      "cell_type": "code",
      "metadata": {
        "id": "07fErKzCd31x",
        "colab_type": "code",
        "outputId": "4fa23387-5f93-4d73-ce93-7768edfdc03f",
        "colab": {
          "base_uri": "https://localhost:8080/",
          "height": 80
        }
      },
      "source": [
        "# baseline cnn model for mnist\n",
        "from numpy import mean\n",
        "from numpy import std\n",
        "from matplotlib import pyplot\n",
        "from sklearn.model_selection import KFold\n",
        "from keras.datasets import mnist\n",
        "from keras.utils import to_categorical\n",
        "from keras.models import Sequential\n",
        "from keras.layers import Conv2D\n",
        "from keras.layers import MaxPooling2D\n",
        "from keras.layers import Dense\n",
        "from keras.layers import Flatten\n",
        "from keras.optimizers import SGD"
      ],
      "execution_count": 1,
      "outputs": [
        {
          "output_type": "stream",
          "text": [
            "Using TensorFlow backend.\n"
          ],
          "name": "stderr"
        },
        {
          "output_type": "display_data",
          "data": {
            "text/html": [
              "<p style=\"color: red;\">\n",
              "The default version of TensorFlow in Colab will soon switch to TensorFlow 2.x.<br>\n",
              "We recommend you <a href=\"https://www.tensorflow.org/guide/migrate\" target=\"_blank\">upgrade</a> now \n",
              "or ensure your notebook will continue to use TensorFlow 1.x via the <code>%tensorflow_version 1.x</code> magic:\n",
              "<a href=\"https://colab.research.google.com/notebooks/tensorflow_version.ipynb\" target=\"_blank\">more info</a>.</p>\n"
            ],
            "text/plain": [
              "<IPython.core.display.HTML object>"
            ]
          },
          "metadata": {
            "tags": []
          }
        }
      ]
    },
    {
      "cell_type": "code",
      "metadata": {
        "id": "1qWIsqjo74SZ",
        "colab_type": "code",
        "colab": {}
      },
      "source": [
        "def load_dataset(SIZE):\n",
        "    # load dataset\n",
        "    (trainX, trainY), (testX, testY) = mnist.load_data()\n",
        "    trainX=trainX[0:SIZE]\n",
        "    trainY=trainY[0:SIZE]\n",
        "    for i in range(9):\n",
        "        # define subplot\n",
        "        pyplot.subplot(330 + 1 + i)\n",
        "        # plot raw pixel data\n",
        "        pyplot.imshow(trainX[i], cmap=pyplot.get_cmap('gray'))\n",
        "        # show the figure\n",
        "    pyplot.show()\n",
        "    # reshape dataset to have a single channel\n",
        "    print(trainX.shape)\n",
        "    trainX = trainX.reshape((trainX.shape[0], 28, 28, 1))\n",
        "    testX = testX.reshape((testX.shape[0], 28, 28, 1))\n",
        "    print(trainX.shape)\n",
        "    # one hot encode target values\n",
        "    trainY = to_categorical(trainY)\n",
        "    testY = to_categorical(testY)\n",
        "    \n",
        "    return trainX, trainY, testX, testY\n",
        "\n",
        "\n",
        "def prep_pixels(train, test):\n",
        "    # convert from integers to floats\n",
        "    train_norm = train.astype('float32')\n",
        "    test_norm = test.astype('float32')\n",
        "    # normalize to range 0-1\n",
        "    train_norm = train_norm / 255.0\n",
        "    test_norm = test_norm / 255.0\n",
        "    # return normalized images\n",
        "    return train_norm, test_norm"
      ],
      "execution_count": 0,
      "outputs": []
    },
    {
      "cell_type": "code",
      "metadata": {
        "id": "lOK_IUrztFds",
        "colab_type": "code",
        "colab": {}
      },
      "source": [
        "# define cnn model\n",
        "def define_model():\n",
        "\tmodel = Sequential()\n",
        "\tmodel.add(Conv2D(32, (3, 3), activation='relu', kernel_initializer='he_uniform', input_shape=(28, 28, 1)))\n",
        "\tmodel.add(MaxPooling2D((2, 2)))\n",
        "\tmodel.add(Flatten())\n",
        "\tmodel.add(Dense(100, activation='relu', kernel_initializer='he_uniform'))\n",
        "\tmodel.add(Dense(10, activation='softmax'))\n",
        "\t# compile model\n",
        "\topt = SGD(lr=0.01, momentum=0.9)\n",
        "\tmodel.compile(optimizer=opt, loss='categorical_crossentropy', metrics=['accuracy'])\n",
        "\treturn model"
      ],
      "execution_count": 0,
      "outputs": []
    },
    {
      "cell_type": "code",
      "metadata": {
        "id": "W_H1aL954gp3",
        "colab_type": "code",
        "colab": {}
      },
      "source": [
        "def evaluate_model(dataX, dataY, n_folds=5):\n",
        "    scores, histories = list(), list()\n",
        "    # prepare cross validation\n",
        "    kfold = KFold(n_folds, shuffle=True, random_state=1)\n",
        "    # enumerate splits\n",
        "    for train_ix, test_ix in kfold.split(dataX):\n",
        "        # define model\n",
        "        model = define_model()\n",
        "        print(model.summary())\n",
        "        # select rows for train and test\n",
        "        trainX, trainY, testX, testY = dataX[train_ix], dataY[train_ix], dataX[test_ix], dataY[test_ix]\n",
        "        # fit model\n",
        "        history = model.fit(trainX, trainY, epochs=10, batch_size=32, validation_data=(testX, testY), verbose=1)\n",
        "        # evaluate model\n",
        "        _, acc = model.evaluate(testX, testY, verbose=0)\n",
        "        print('> %.3f' % (acc * 100.0))\n",
        "        # stores scores\n",
        "        scores.append(acc)\n",
        "        histories.append(history)\n",
        "    return scores, histories\n",
        "\n",
        "def summarize_diagnostics(histories):\n",
        "    for i in range(len(histories)):\n",
        "        # plot loss\n",
        "        pyplot.subplot(2, 1, 1)\n",
        "        pyplot.title('Cross Entropy Loss')\n",
        "        pyplot.plot(histories[i].history['loss'], color='blue', label='train')\n",
        "        pyplot.plot(histories[i].history['val_loss'], color='orange', label='test')\n",
        "        # plot accuracy\n",
        "        pyplot.subplot(2, 1, 2)\n",
        "        pyplot.title('Classification Accuracy')\n",
        "        pyplot.plot(histories[i].history['acc'], color='blue', label='train')\n",
        "        pyplot.plot(histories[i].history['val_acc'], color='orange', label='test')\n",
        "    pyplot.show()\n",
        "\n",
        "def summarize_performance(scores):\n",
        "\t# print summary\n",
        "\tprint('Accuracy: mean=%.3f std=%.3f, n=%d' % (mean(scores)*100, std(scores)*100, len(scores)))\n",
        "\t# box and whisker plots of results\n",
        "\tpyplot.boxplot(scores)\n",
        "\tpyplot.show()"
      ],
      "execution_count": 0,
      "outputs": []
    },
    {
      "cell_type": "code",
      "metadata": {
        "id": "ikQ5Zvvd7WJ9",
        "colab_type": "code",
        "outputId": "7de7608b-957b-4496-c7ac-ba5931a922c2",
        "colab": {
          "base_uri": "https://localhost:8080/",
          "height": 1000
        }
      },
      "source": [
        "def run_test_harness():\n",
        "    # load dataset\n",
        "    trainX, trainY, testX, testY = load_dataset(1000)\n",
        "    # prepare pixel data\n",
        "    trainX, testX = prep_pixels(trainX, testX)\n",
        "    # evaluate model\n",
        "    scores, histories = evaluate_model(trainX, trainY)\n",
        "    # learning curves\n",
        "    summarize_diagnostics(histories)\n",
        "    # summarize estimated performance\n",
        "    summarize_performance(scores)\n",
        "\n",
        "run_test_harness()\n",
        " "
      ],
      "execution_count": 5,
      "outputs": [
        {
          "output_type": "stream",
          "text": [
            "Downloading data from https://s3.amazonaws.com/img-datasets/mnist.npz\n",
            "11493376/11490434 [==============================] - 1s 0us/step\n"
          ],
          "name": "stdout"
        },
        {
          "output_type": "display_data",
          "data": {
            "image/png": "[encoded data removed]",
            "text/plain": [
              "<Figure size 432x288 with 9 Axes>"
            ]
          },
          "metadata": {
            "tags": []
          }
        },
        {
          "output_type": "stream",
          "text": [
            "(1000, 28, 28)\n",
            "(1000, 28, 28, 1)\n",
            "WARNING:tensorflow:From /usr/local/lib/python3.6/dist-packages/keras/backend/tensorflow_backend.py:66: The name tf.get_default_graph is deprecated. Please use tf.compat.v1.get_default_graph instead.\n",
            "\n",
            "WARNING:tensorflow:From /usr/local/lib/python3.6/dist-packages/keras/backend/tensorflow_backend.py:541: The name tf.placeholder is deprecated. Please use tf.compat.v1.placeholder instead.\n",
            "\n",
            "WARNING:tensorflow:From /usr/local/lib/python3.6/dist-packages/keras/backend/tensorflow_backend.py:4432: The name tf.random_uniform is deprecated. Please use tf.random.uniform instead.\n",
            "\n",
            "WARNING:tensorflow:From /usr/local/lib/python3.6/dist-packages/keras/backend/tensorflow_backend.py:4267: The name tf.nn.max_pool is deprecated. Please use tf.nn.max_pool2d instead.\n",
            "\n",
            "WARNING:tensorflow:From /usr/local/lib/python3.6/dist-packages/keras/optimizers.py:793: The name tf.train.Optimizer is deprecated. Please use tf.compat.v1.train.Optimizer instead.\n",
            "\n",
            "WARNING:tensorflow:From /usr/local/lib/python3.6/dist-packages/keras/backend/tensorflow_backend.py:3576: The name tf.log is deprecated. Please use tf.math.log instead.\n",
            "\n",
            "Model: \"sequential_1\"\n",
            "_________________________________________________________________\n",
            "Layer (type)                 Output Shape              Param #   \n",
            "=================================================================\n",
            "conv2d_1 (Conv2D)            (None, 26, 26, 32)        320       \n",
            "_________________________________________________________________\n",
            "max_pooling2d_1 (MaxPooling2 (None, 13, 13, 32)        0         \n",
            "_________________________________________________________________\n",
            "flatten_1 (Flatten)          (None, 5408)              0         \n",
            "_________________________________________________________________\n",
            "dense_1 (Dense)              (None, 100)               540900    \n",
            "_________________________________________________________________\n",
            "dense_2 (Dense)              (None, 10)                1010      \n",
            "=================================================================\n",
            "Total params: 542,230\n",
            "Trainable params: 542,230\n",
            "Non-trainable params: 0\n",
            "_________________________________________________________________\n",
            "None\n",
            "WARNING:tensorflow:From /usr/local/lib/python3.6/dist-packages/tensorflow_core/python/ops/math_grad.py:1424: where (from tensorflow.python.ops.array_ops) is deprecated and will be removed in a future version.\n",
            "Instructions for updating:\n",
            "Use tf.where in 2.0, which has the same broadcast rule as np.where\n",
            "WARNING:tensorflow:From /usr/local/lib/python3.6/dist-packages/keras/backend/tensorflow_backend.py:1033: The name tf.assign_add is deprecated. Please use tf.compat.v1.assign_add instead.\n",
            "\n",
            "WARNING:tensorflow:From /usr/local/lib/python3.6/dist-packages/keras/backend/tensorflow_backend.py:1020: The name tf.assign is deprecated. Please use tf.compat.v1.assign instead.\n",
            "\n",
            "WARNING:tensorflow:From /usr/local/lib/python3.6/dist-packages/keras/backend/tensorflow_backend.py:3005: The name tf.Session is deprecated. Please use tf.compat.v1.Session instead.\n",
            "\n",
            "Train on 800 samples, validate on 200 samples\n",
            "Epoch 1/10\n",
            "WARNING:tensorflow:From /usr/local/lib/python3.6/dist-packages/keras/backend/tensorflow_backend.py:190: The name tf.get_default_session is deprecated. Please use tf.compat.v1.get_default_session instead.\n",
            "\n",
            "WARNING:tensorflow:From /usr/local/lib/python3.6/dist-packages/keras/backend/tensorflow_backend.py:197: The name tf.ConfigProto is deprecated. Please use tf.compat.v1.ConfigProto instead.\n",
            "\n",
            "WARNING:tensorflow:From /usr/local/lib/python3.6/dist-packages/keras/backend/tensorflow_backend.py:207: The name tf.global_variables is deprecated. Please use tf.compat.v1.global_variables instead.\n",
            "\n",
            "WARNING:tensorflow:From /usr/local/lib/python3.6/dist-packages/keras/backend/tensorflow_backend.py:216: The name tf.is_variable_initialized is deprecated. Please use tf.compat.v1.is_variable_initialized instead.\n",
            "\n",
            "WARNING:tensorflow:From /usr/local/lib/python3.6/dist-packages/keras/backend/tensorflow_backend.py:223: The name tf.variables_initializer is deprecated. Please use tf.compat.v1.variables_initializer instead.\n",
            "\n",
            "800/800 [==============================] - 14s 17ms/step - loss: 1.0239 - acc: 0.6800 - val_loss: 0.7536 - val_acc: 0.7650\n",
            "Epoch 2/10\n",
            "800/800 [==============================] - 0s 129us/step - loss: 0.4197 - acc: 0.8738 - val_loss: 0.5323 - val_acc: 0.8250\n",
            "Epoch 3/10\n",
            "800/800 [==============================] - 0s 132us/step - loss: 0.2430 - acc: 0.9187 - val_loss: 0.4446 - val_acc: 0.8550\n",
            "Epoch 4/10\n",
            "800/800 [==============================] - 0s 116us/step - loss: 0.1744 - acc: 0.9500 - val_loss: 0.3807 - val_acc: 0.8850\n",
            "Epoch 5/10\n",
            "800/800 [==============================] - 0s 127us/step - loss: 0.1143 - acc: 0.9713 - val_loss: 0.4125 - val_acc: 0.8950\n",
            "Epoch 6/10\n",
            "800/800 [==============================] - 0s 139us/step - loss: 0.0755 - acc: 0.9788 - val_loss: 0.4045 - val_acc: 0.9000\n",
            "Epoch 7/10\n",
            "800/800 [==============================] - 0s 126us/step - loss: 0.0570 - acc: 0.9875 - val_loss: 0.4253 - val_acc: 0.9000\n",
            "Epoch 8/10\n",
            "800/800 [==============================] - 0s 120us/step - loss: 0.0333 - acc: 0.9975 - val_loss: 0.4736 - val_acc: 0.8950\n",
            "Epoch 9/10\n",
            "800/800 [==============================] - 0s 121us/step - loss: 0.0303 - acc: 0.9988 - val_loss: 0.4071 - val_acc: 0.9100\n",
            "Epoch 10/10\n",
            "800/800 [==============================] - 0s 128us/step - loss: 0.0177 - acc: 1.0000 - val_loss: 0.4339 - val_acc: 0.9000\n",
            "> 90.000\n",
            "Model: \"sequential_2\"\n",
            "_________________________________________________________________\n",
            "Layer (type)                 Output Shape              Param #   \n",
            "=================================================================\n",
            "conv2d_2 (Conv2D)            (None, 26, 26, 32)        320       \n",
            "_________________________________________________________________\n",
            "max_pooling2d_2 (MaxPooling2 (None, 13, 13, 32)        0         \n",
            "_________________________________________________________________\n",
            "flatten_2 (Flatten)          (None, 5408)              0         \n",
            "_________________________________________________________________\n",
            "dense_3 (Dense)              (None, 100)               540900    \n",
            "_________________________________________________________________\n",
            "dense_4 (Dense)              (None, 10)                1010      \n",
            "=================================================================\n",
            "Total params: 542,230\n",
            "Trainable params: 542,230\n",
            "Non-trainable params: 0\n",
            "_________________________________________________________________\n",
            "None\n",
            "Train on 800 samples, validate on 200 samples\n",
            "Epoch 1/10\n",
            "800/800 [==============================] - 0s 361us/step - loss: 1.1831 - acc: 0.6187 - val_loss: 0.4519 - val_acc: 0.8500\n",
            "Epoch 2/10\n",
            "800/800 [==============================] - 0s 127us/step - loss: 0.4318 - acc: 0.8663 - val_loss: 0.4073 - val_acc: 0.8600\n",
            "Epoch 3/10\n",
            "800/800 [==============================] - 0s 130us/step - loss: 0.2817 - acc: 0.9175 - val_loss: 0.3332 - val_acc: 0.9000\n",
            "Epoch 4/10\n",
            "800/800 [==============================] - 0s 116us/step - loss: 0.1796 - acc: 0.9500 - val_loss: 0.3405 - val_acc: 0.8900\n",
            "Epoch 5/10\n",
            "800/800 [==============================] - 0s 137us/step - loss: 0.1309 - acc: 0.9600 - val_loss: 0.3371 - val_acc: 0.9200\n",
            "Epoch 6/10\n",
            "800/800 [==============================] - 0s 118us/step - loss: 0.0988 - acc: 0.9775 - val_loss: 0.3400 - val_acc: 0.9100\n",
            "Epoch 7/10\n",
            "800/800 [==============================] - 0s 118us/step - loss: 0.0784 - acc: 0.9825 - val_loss: 0.3670 - val_acc: 0.9150\n",
            "Epoch 8/10\n",
            "800/800 [==============================] - 0s 113us/step - loss: 0.0544 - acc: 0.9888 - val_loss: 0.3133 - val_acc: 0.9100\n",
            "Epoch 9/10\n",
            "800/800 [==============================] - 0s 118us/step - loss: 0.0358 - acc: 0.9962 - val_loss: 0.3495 - val_acc: 0.9100\n",
            "Epoch 10/10\n",
            "800/800 [==============================] - 0s 125us/step - loss: 0.0283 - acc: 0.9988 - val_loss: 0.3551 - val_acc: 0.9100\n",
            "> 91.000\n",
            "Model: \"sequential_3\"\n",
            "_________________________________________________________________\n",
            "Layer (type)                 Output Shape              Param #   \n",
            "=================================================================\n",
            "conv2d_3 (Conv2D)            (None, 26, 26, 32)        320       \n",
            "_________________________________________________________________\n",
            "max_pooling2d_3 (MaxPooling2 (None, 13, 13, 32)        0         \n",
            "_________________________________________________________________\n",
            "flatten_3 (Flatten)          (None, 5408)              0         \n",
            "_________________________________________________________________\n",
            "dense_5 (Dense)              (None, 100)               540900    \n",
            "_________________________________________________________________\n",
            "dense_6 (Dense)              (None, 10)                1010      \n",
            "=================================================================\n",
            "Total params: 542,230\n",
            "Trainable params: 542,230\n",
            "Non-trainable params: 0\n",
            "_________________________________________________________________\n",
            "None\n",
            "Train on 800 samples, validate on 200 samples\n",
            "Epoch 1/10\n",
            "800/800 [==============================] - 0s 423us/step - loss: 1.2313 - acc: 0.6150 - val_loss: 1.0404 - val_acc: 0.6450\n",
            "Epoch 2/10\n",
            "800/800 [==============================] - 0s 117us/step - loss: 0.5673 - acc: 0.8163 - val_loss: 0.5050 - val_acc: 0.8400\n",
            "Epoch 3/10\n",
            "800/800 [==============================] - 0s 119us/step - loss: 0.2973 - acc: 0.9088 - val_loss: 0.3849 - val_acc: 0.8900\n",
            "Epoch 4/10\n",
            "800/800 [==============================] - 0s 126us/step - loss: 0.2051 - acc: 0.9350 - val_loss: 0.3527 - val_acc: 0.8950\n",
            "Epoch 5/10\n",
            "800/800 [==============================] - 0s 127us/step - loss: 0.1402 - acc: 0.9650 - val_loss: 0.4156 - val_acc: 0.8600\n",
            "Epoch 6/10\n",
            "800/800 [==============================] - 0s 124us/step - loss: 0.1146 - acc: 0.9675 - val_loss: 0.3682 - val_acc: 0.8800\n",
            "Epoch 7/10\n",
            "800/800 [==============================] - 0s 125us/step - loss: 0.0837 - acc: 0.9850 - val_loss: 0.3300 - val_acc: 0.8850\n",
            "Epoch 8/10\n",
            "800/800 [==============================] - 0s 142us/step - loss: 0.0587 - acc: 0.9888 - val_loss: 0.3478 - val_acc: 0.9000\n",
            "Epoch 9/10\n",
            "800/800 [==============================] - 0s 114us/step - loss: 0.0473 - acc: 0.9937 - val_loss: 0.3550 - val_acc: 0.8900\n",
            "Epoch 10/10\n",
            "800/800 [==============================] - 0s 117us/step - loss: 0.0307 - acc: 0.9988 - val_loss: 0.3449 - val_acc: 0.8950\n",
            "> 89.500\n",
            "Model: \"sequential_4\"\n",
            "_________________________________________________________________\n",
            "Layer (type)                 Output Shape              Param #   \n",
            "=================================================================\n",
            "conv2d_4 (Conv2D)            (None, 26, 26, 32)        320       \n",
            "_________________________________________________________________\n",
            "max_pooling2d_4 (MaxPooling2 (None, 13, 13, 32)        0         \n",
            "_________________________________________________________________\n",
            "flatten_4 (Flatten)          (None, 5408)              0         \n",
            "_________________________________________________________________\n",
            "dense_7 (Dense)              (None, 100)               540900    \n",
            "_________________________________________________________________\n",
            "dense_8 (Dense)              (None, 10)                1010      \n",
            "=================================================================\n",
            "Total params: 542,230\n",
            "Trainable params: 542,230\n",
            "Non-trainable params: 0\n",
            "_________________________________________________________________\n",
            "None\n",
            "Train on 800 samples, validate on 200 samples\n",
            "Epoch 1/10\n",
            "800/800 [==============================] - 0s 446us/step - loss: 1.1979 - acc: 0.6100 - val_loss: 0.6553 - val_acc: 0.8050\n",
            "Epoch 2/10\n",
            "800/800 [==============================] - 0s 127us/step - loss: 0.4379 - acc: 0.8600 - val_loss: 0.7606 - val_acc: 0.7850\n",
            "Epoch 3/10\n",
            "800/800 [==============================] - 0s 132us/step - loss: 0.2846 - acc: 0.9138 - val_loss: 0.5106 - val_acc: 0.8450\n",
            "Epoch 4/10\n",
            "800/800 [==============================] - 0s 119us/step - loss: 0.1730 - acc: 0.9537 - val_loss: 0.5467 - val_acc: 0.8700\n",
            "Epoch 5/10\n",
            "800/800 [==============================] - 0s 123us/step - loss: 0.1251 - acc: 0.9662 - val_loss: 0.5404 - val_acc: 0.8900\n",
            "Epoch 6/10\n",
            "800/800 [==============================] - 0s 125us/step - loss: 0.0975 - acc: 0.9725 - val_loss: 0.5995 - val_acc: 0.8450\n",
            "Epoch 7/10\n",
            "800/800 [==============================] - 0s 121us/step - loss: 0.0640 - acc: 0.9888 - val_loss: 0.5509 - val_acc: 0.8800\n",
            "Epoch 8/10\n",
            "800/800 [==============================] - 0s 121us/step - loss: 0.0398 - acc: 0.9962 - val_loss: 0.5914 - val_acc: 0.8550\n",
            "Epoch 9/10\n",
            "800/800 [==============================] - 0s 121us/step - loss: 0.0317 - acc: 0.9988 - val_loss: 0.5642 - val_acc: 0.8750\n",
            "Epoch 10/10\n",
            "800/800 [==============================] - 0s 124us/step - loss: 0.0219 - acc: 1.0000 - val_loss: 0.5724 - val_acc: 0.8850\n",
            "> 88.500\n",
            "Model: \"sequential_5\"\n",
            "_________________________________________________________________\n",
            "Layer (type)                 Output Shape              Param #   \n",
            "=================================================================\n",
            "conv2d_5 (Conv2D)            (None, 26, 26, 32)        320       \n",
            "_________________________________________________________________\n",
            "max_pooling2d_5 (MaxPooling2 (None, 13, 13, 32)        0         \n",
            "_________________________________________________________________\n",
            "flatten_5 (Flatten)          (None, 5408)              0         \n",
            "_________________________________________________________________\n",
            "dense_9 (Dense)              (None, 100)               540900    \n",
            "_________________________________________________________________\n",
            "dense_10 (Dense)             (None, 10)                1010      \n",
            "=================================================================\n",
            "Total params: 542,230\n",
            "Trainable params: 542,230\n",
            "Non-trainable params: 0\n",
            "_________________________________________________________________\n",
            "None\n",
            "Train on 800 samples, validate on 200 samples\n",
            "Epoch 1/10\n",
            "800/800 [==============================] - 0s 509us/step - loss: 1.1485 - acc: 0.6112 - val_loss: 0.5840 - val_acc: 0.8200\n",
            "Epoch 2/10\n",
            "800/800 [==============================] - 0s 119us/step - loss: 0.4083 - acc: 0.8687 - val_loss: 0.4257 - val_acc: 0.8850\n",
            "Epoch 3/10\n",
            "800/800 [==============================] - 0s 118us/step - loss: 0.2691 - acc: 0.9100 - val_loss: 0.4516 - val_acc: 0.8750\n",
            "Epoch 4/10\n",
            "800/800 [==============================] - 0s 127us/step - loss: 0.1861 - acc: 0.9438 - val_loss: 0.3885 - val_acc: 0.8750\n",
            "Epoch 5/10\n",
            "800/800 [==============================] - 0s 123us/step - loss: 0.1314 - acc: 0.9650 - val_loss: 0.4530 - val_acc: 0.8700\n",
            "Epoch 6/10\n",
            "800/800 [==============================] - 0s 124us/step - loss: 0.0892 - acc: 0.9738 - val_loss: 0.3674 - val_acc: 0.9100\n",
            "Epoch 7/10\n",
            "800/800 [==============================] - 0s 121us/step - loss: 0.0530 - acc: 0.9925 - val_loss: 0.3845 - val_acc: 0.9100\n",
            "Epoch 8/10\n",
            "800/800 [==============================] - 0s 139us/step - loss: 0.0368 - acc: 0.9925 - val_loss: 0.4147 - val_acc: 0.9100\n",
            "Epoch 9/10\n",
            "800/800 [==============================] - 0s 120us/step - loss: 0.0232 - acc: 1.0000 - val_loss: 0.4023 - val_acc: 0.9100\n",
            "Epoch 10/10\n",
            "800/800 [==============================] - 0s 123us/step - loss: 0.0168 - acc: 1.0000 - val_loss: 0.3918 - val_acc: 0.9200\n",
            "> 92.000\n"
          ],
          "name": "stdout"
        },
        {
          "output_type": "stream",
          "text": [
            "/usr/local/lib/python3.6/dist-packages/ipykernel_launcher.py:25: MatplotlibDeprecationWarning: Adding an axes using the same arguments as a previous axes currently reuses the earlier instance.  In a future version, a new instance will always be created and returned.  Meanwhile, this warning can be suppressed, and the future behavior ensured, by passing a unique label to each axes instance.\n",
            "/usr/local/lib/python3.6/dist-packages/ipykernel_launcher.py:30: MatplotlibDeprecationWarning: Adding an axes using the same arguments as a previous axes currently reuses the earlier instance.  In a future version, a new instance will always be created and returned.  Meanwhile, this warning can be suppressed, and the future behavior ensured, by passing a unique label to each axes instance.\n",
            "/usr/local/lib/python3.6/dist-packages/ipykernel_launcher.py:25: MatplotlibDeprecationWarning: Adding an axes using the same arguments as a previous axes currently reuses the earlier instance.  In a future version, a new instance will always be created and returned.  Meanwhile, this warning can be suppressed, and the future behavior ensured, by passing a unique label to each axes instance.\n",
            "/usr/local/lib/python3.6/dist-packages/ipykernel_launcher.py:30: MatplotlibDeprecationWarning: Adding an axes using the same arguments as a previous axes currently reuses the earlier instance.  In a future version, a new instance will always be created and returned.  Meanwhile, this warning can be suppressed, and the future behavior ensured, by passing a unique label to each axes instance.\n",
            "/usr/local/lib/python3.6/dist-packages/ipykernel_launcher.py:25: MatplotlibDeprecationWarning: Adding an axes using the same arguments as a previous axes currently reuses the earlier instance.  In a future version, a new instance will always be created and returned.  Meanwhile, this warning can be suppressed, and the future behavior ensured, by passing a unique label to each axes instance.\n",
            "/usr/local/lib/python3.6/dist-packages/ipykernel_launcher.py:30: MatplotlibDeprecationWarning: Adding an axes using the same arguments as a previous axes currently reuses the earlier instance.  In a future version, a new instance will always be created and returned.  Meanwhile, this warning can be suppressed, and the future behavior ensured, by passing a unique label to each axes instance.\n",
            "/usr/local/lib/python3.6/dist-packages/ipykernel_launcher.py:25: MatplotlibDeprecationWarning: Adding an axes using the same arguments as a previous axes currently reuses the earlier instance.  In a future version, a new instance will always be created and returned.  Meanwhile, this warning can be suppressed, and the future behavior ensured, by passing a unique label to each axes instance.\n",
            "/usr/local/lib/python3.6/dist-packages/ipykernel_launcher.py:30: MatplotlibDeprecationWarning: Adding an axes using the same arguments as a previous axes currently reuses the earlier instance.  In a future version, a new instance will always be created and returned.  Meanwhile, this warning can be suppressed, and the future behavior ensured, by passing a unique label to each axes instance.\n"
          ],
          "name": "stderr"
        },
        {
          "output_type": "display_data",
          "data": {
            "image/png": "[encoded data removed]",
            "text/plain": [
              "<Figure size 432x288 with 2 Axes>"
            ]
          },
          "metadata": {
            "tags": []
          }
        },
        {
          "output_type": "stream",
          "text": [
            "Accuracy: mean=90.200 std=1.208, n=5\n"
          ],
          "name": "stdout"
        },
        {
          "output_type": "display_data",
          "data": {
            "image/png": "[encoded data removed]",
            "text/plain": [
              "<Figure size 432x288 with 1 Axes>"
            ]
          },
          "metadata": {
            "tags": []
          }
        }
      ]
    },
    {
      "cell_type": "code",
      "metadata": {
        "id": "t8SXDaFX8oYI",
        "colab_type": "code",
        "colab": {}
      },
      "source": [
        ""
      ],
      "execution_count": 0,
      "outputs": []
    }
  ]
}